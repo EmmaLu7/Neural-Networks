{
 "cells": [
  {
   "cell_type": "code",
   "execution_count": 4,
   "id": "cde85efd",
   "metadata": {},
   "outputs": [],
   "source": [
    "import pandas as pd\n",
    "import numpy as np\n",
    "import glob, os\n",
    "import re\n",
    "import seaborn as sns\n",
    "import matplotlib.pyplot as plt\n",
    "from string import punctuation, digits\n",
    "from bs4 import BeautifulSoup\n",
    "import nltk\n",
    "from nltk.corpus import stopwords\n",
    "from nltk.stem import WordNetLemmatizer\n",
    "from nltk.tokenize import word_tokenize\n",
    "import keras\n",
    "import tensorflow\n",
    "import tensorflow as tf\n",
    "from tensorflow import keras\n",
    "from keras.preprocessing.text import Tokenizer\n",
    "from tensorflow.keras.preprocessing.sequence import pad_sequences\n",
    "from keras.models import Sequential\n",
    "from keras.layers import Dense\n",
    "from keras.layers import Flatten\n",
    "from keras.layers import Dropout\n",
    "from keras.layers import Conv1D, MaxPooling1D\n",
    "from keras.layers import LSTM\n",
    "from keras.layers.embeddings import Embedding\n",
    "from keras.constraints import maxnorm"
   ]
  },
  {
   "cell_type": "markdown",
   "id": "cfadd7d9",
   "metadata": {},
   "source": [
    "Movie data from https://www.kaggle.com/code/lakshmi25npathi/sentiment-analysis-of-imdb-movie-reviews/data "
   ]
  },
  {
   "cell_type": "code",
   "execution_count": 5,
   "id": "6837b484",
   "metadata": {},
   "outputs": [
    {
     "data": {
      "text/html": [
       "<div>\n",
       "<style scoped>\n",
       "    .dataframe tbody tr th:only-of-type {\n",
       "        vertical-align: middle;\n",
       "    }\n",
       "\n",
       "    .dataframe tbody tr th {\n",
       "        vertical-align: top;\n",
       "    }\n",
       "\n",
       "    .dataframe thead th {\n",
       "        text-align: right;\n",
       "    }\n",
       "</style>\n",
       "<table border=\"1\" class=\"dataframe\">\n",
       "  <thead>\n",
       "    <tr style=\"text-align: right;\">\n",
       "      <th></th>\n",
       "      <th>review</th>\n",
       "      <th>sentiment</th>\n",
       "    </tr>\n",
       "  </thead>\n",
       "  <tbody>\n",
       "    <tr>\n",
       "      <th>0</th>\n",
       "      <td>One of the other reviewers has mentioned that ...</td>\n",
       "      <td>positive</td>\n",
       "    </tr>\n",
       "    <tr>\n",
       "      <th>1</th>\n",
       "      <td>A wonderful little production. &lt;br /&gt;&lt;br /&gt;The...</td>\n",
       "      <td>positive</td>\n",
       "    </tr>\n",
       "    <tr>\n",
       "      <th>2</th>\n",
       "      <td>I thought this was a wonderful way to spend ti...</td>\n",
       "      <td>positive</td>\n",
       "    </tr>\n",
       "    <tr>\n",
       "      <th>3</th>\n",
       "      <td>Basically there's a family where a little boy ...</td>\n",
       "      <td>negative</td>\n",
       "    </tr>\n",
       "    <tr>\n",
       "      <th>4</th>\n",
       "      <td>Petter Mattei's \"Love in the Time of Money\" is...</td>\n",
       "      <td>positive</td>\n",
       "    </tr>\n",
       "    <tr>\n",
       "      <th>...</th>\n",
       "      <td>...</td>\n",
       "      <td>...</td>\n",
       "    </tr>\n",
       "    <tr>\n",
       "      <th>49995</th>\n",
       "      <td>I thought this movie did a down right good job...</td>\n",
       "      <td>positive</td>\n",
       "    </tr>\n",
       "    <tr>\n",
       "      <th>49996</th>\n",
       "      <td>Bad plot, bad dialogue, bad acting, idiotic di...</td>\n",
       "      <td>negative</td>\n",
       "    </tr>\n",
       "    <tr>\n",
       "      <th>49997</th>\n",
       "      <td>I am a Catholic taught in parochial elementary...</td>\n",
       "      <td>negative</td>\n",
       "    </tr>\n",
       "    <tr>\n",
       "      <th>49998</th>\n",
       "      <td>I'm going to have to disagree with the previou...</td>\n",
       "      <td>negative</td>\n",
       "    </tr>\n",
       "    <tr>\n",
       "      <th>49999</th>\n",
       "      <td>No one expects the Star Trek movies to be high...</td>\n",
       "      <td>negative</td>\n",
       "    </tr>\n",
       "  </tbody>\n",
       "</table>\n",
       "<p>50000 rows × 2 columns</p>\n",
       "</div>"
      ],
      "text/plain": [
       "                                                  review sentiment\n",
       "0      One of the other reviewers has mentioned that ...  positive\n",
       "1      A wonderful little production. <br /><br />The...  positive\n",
       "2      I thought this was a wonderful way to spend ti...  positive\n",
       "3      Basically there's a family where a little boy ...  negative\n",
       "4      Petter Mattei's \"Love in the Time of Money\" is...  positive\n",
       "...                                                  ...       ...\n",
       "49995  I thought this movie did a down right good job...  positive\n",
       "49996  Bad plot, bad dialogue, bad acting, idiotic di...  negative\n",
       "49997  I am a Catholic taught in parochial elementary...  negative\n",
       "49998  I'm going to have to disagree with the previou...  negative\n",
       "49999  No one expects the Star Trek movies to be high...  negative\n",
       "\n",
       "[50000 rows x 2 columns]"
      ]
     },
     "execution_count": 5,
     "metadata": {},
     "output_type": "execute_result"
    }
   ],
   "source": [
    "# read file\n",
    "mov_df = pd.read_csv(\"../data/IMDB-Dataset.csv\")\n",
    "mov_df"
   ]
  },
  {
   "cell_type": "code",
   "execution_count": 6,
   "id": "8b0d8fe0",
   "metadata": {},
   "outputs": [],
   "source": [
    "stop_words = set(stopwords.words('english'))\n",
    "\n",
    "\n",
    "def clean_text(text):\n",
    "    # remove html tags\n",
    "    soup = BeautifulSoup(text, \"lxml\")\n",
    "    new_text = soup.get_text()\n",
    "    \n",
    "    # remove numbers and punctuations\n",
    "    new_text = re.sub(\"'\", ' ', new_text).lower()\n",
    "    new_text = ''.join(filter(lambda x: x not in punctuation+digits, new_text))\n",
    "    \n",
    "    # remove stop words\n",
    "    tokens = word_tokenize(new_text)\n",
    "    filt_token = [w for w in tokens if w not in stop_words]\n",
    "    filt_text = ' '.join(filt_token)\n",
    "    return filt_text"
   ]
  },
  {
   "cell_type": "code",
   "execution_count": 7,
   "id": "a6259ad6",
   "metadata": {},
   "outputs": [
    {
     "data": {
      "text/html": [
       "<div>\n",
       "<style scoped>\n",
       "    .dataframe tbody tr th:only-of-type {\n",
       "        vertical-align: middle;\n",
       "    }\n",
       "\n",
       "    .dataframe tbody tr th {\n",
       "        vertical-align: top;\n",
       "    }\n",
       "\n",
       "    .dataframe thead th {\n",
       "        text-align: right;\n",
       "    }\n",
       "</style>\n",
       "<table border=\"1\" class=\"dataframe\">\n",
       "  <thead>\n",
       "    <tr style=\"text-align: right;\">\n",
       "      <th></th>\n",
       "      <th>review</th>\n",
       "      <th>sentiment</th>\n",
       "    </tr>\n",
       "  </thead>\n",
       "  <tbody>\n",
       "    <tr>\n",
       "      <th>0</th>\n",
       "      <td>one reviewers mentioned watching oz episode ho...</td>\n",
       "      <td>positive</td>\n",
       "    </tr>\n",
       "    <tr>\n",
       "      <th>1</th>\n",
       "      <td>wonderful little production filming technique ...</td>\n",
       "      <td>positive</td>\n",
       "    </tr>\n",
       "    <tr>\n",
       "      <th>2</th>\n",
       "      <td>thought wonderful way spend time hot summer we...</td>\n",
       "      <td>positive</td>\n",
       "    </tr>\n",
       "    <tr>\n",
       "      <th>3</th>\n",
       "      <td>basically family little boy jake thinks zombie...</td>\n",
       "      <td>negative</td>\n",
       "    </tr>\n",
       "    <tr>\n",
       "      <th>4</th>\n",
       "      <td>petter mattei love time money visually stunnin...</td>\n",
       "      <td>positive</td>\n",
       "    </tr>\n",
       "    <tr>\n",
       "      <th>...</th>\n",
       "      <td>...</td>\n",
       "      <td>...</td>\n",
       "    </tr>\n",
       "    <tr>\n",
       "      <th>49995</th>\n",
       "      <td>thought movie right good job creative original...</td>\n",
       "      <td>positive</td>\n",
       "    </tr>\n",
       "    <tr>\n",
       "      <th>49996</th>\n",
       "      <td>bad plot bad dialogue bad acting idiotic direc...</td>\n",
       "      <td>negative</td>\n",
       "    </tr>\n",
       "    <tr>\n",
       "      <th>49997</th>\n",
       "      <td>catholic taught parochial elementary schools n...</td>\n",
       "      <td>negative</td>\n",
       "    </tr>\n",
       "    <tr>\n",
       "      <th>49998</th>\n",
       "      <td>going disagree previous comment side maltin on...</td>\n",
       "      <td>negative</td>\n",
       "    </tr>\n",
       "    <tr>\n",
       "      <th>49999</th>\n",
       "      <td>one expects star trek movies high art fans exp...</td>\n",
       "      <td>negative</td>\n",
       "    </tr>\n",
       "  </tbody>\n",
       "</table>\n",
       "<p>50000 rows × 2 columns</p>\n",
       "</div>"
      ],
      "text/plain": [
       "                                                  review sentiment\n",
       "0      one reviewers mentioned watching oz episode ho...  positive\n",
       "1      wonderful little production filming technique ...  positive\n",
       "2      thought wonderful way spend time hot summer we...  positive\n",
       "3      basically family little boy jake thinks zombie...  negative\n",
       "4      petter mattei love time money visually stunnin...  positive\n",
       "...                                                  ...       ...\n",
       "49995  thought movie right good job creative original...  positive\n",
       "49996  bad plot bad dialogue bad acting idiotic direc...  negative\n",
       "49997  catholic taught parochial elementary schools n...  negative\n",
       "49998  going disagree previous comment side maltin on...  negative\n",
       "49999  one expects star trek movies high art fans exp...  negative\n",
       "\n",
       "[50000 rows x 2 columns]"
      ]
     },
     "execution_count": 7,
     "metadata": {},
     "output_type": "execute_result"
    }
   ],
   "source": [
    "mov_df['review'] = mov_df['review'].apply(clean_text)\n",
    "mov_df"
   ]
  },
  {
   "cell_type": "code",
   "execution_count": 8,
   "id": "fd610db8",
   "metadata": {},
   "outputs": [
    {
     "data": {
      "text/html": [
       "<div>\n",
       "<style scoped>\n",
       "    .dataframe tbody tr th:only-of-type {\n",
       "        vertical-align: middle;\n",
       "    }\n",
       "\n",
       "    .dataframe tbody tr th {\n",
       "        vertical-align: top;\n",
       "    }\n",
       "\n",
       "    .dataframe thead th {\n",
       "        text-align: right;\n",
       "    }\n",
       "</style>\n",
       "<table border=\"1\" class=\"dataframe\">\n",
       "  <thead>\n",
       "    <tr style=\"text-align: right;\">\n",
       "      <th></th>\n",
       "      <th>review</th>\n",
       "      <th>sentiment</th>\n",
       "    </tr>\n",
       "  </thead>\n",
       "  <tbody>\n",
       "    <tr>\n",
       "      <th>0</th>\n",
       "      <td>one reviewers mentioned watching oz episode ho...</td>\n",
       "      <td>1</td>\n",
       "    </tr>\n",
       "    <tr>\n",
       "      <th>1</th>\n",
       "      <td>wonderful little production filming technique ...</td>\n",
       "      <td>1</td>\n",
       "    </tr>\n",
       "    <tr>\n",
       "      <th>2</th>\n",
       "      <td>thought wonderful way spend time hot summer we...</td>\n",
       "      <td>1</td>\n",
       "    </tr>\n",
       "    <tr>\n",
       "      <th>3</th>\n",
       "      <td>basically family little boy jake thinks zombie...</td>\n",
       "      <td>0</td>\n",
       "    </tr>\n",
       "    <tr>\n",
       "      <th>4</th>\n",
       "      <td>petter mattei love time money visually stunnin...</td>\n",
       "      <td>1</td>\n",
       "    </tr>\n",
       "    <tr>\n",
       "      <th>...</th>\n",
       "      <td>...</td>\n",
       "      <td>...</td>\n",
       "    </tr>\n",
       "    <tr>\n",
       "      <th>49995</th>\n",
       "      <td>thought movie right good job creative original...</td>\n",
       "      <td>1</td>\n",
       "    </tr>\n",
       "    <tr>\n",
       "      <th>49996</th>\n",
       "      <td>bad plot bad dialogue bad acting idiotic direc...</td>\n",
       "      <td>0</td>\n",
       "    </tr>\n",
       "    <tr>\n",
       "      <th>49997</th>\n",
       "      <td>catholic taught parochial elementary schools n...</td>\n",
       "      <td>0</td>\n",
       "    </tr>\n",
       "    <tr>\n",
       "      <th>49998</th>\n",
       "      <td>going disagree previous comment side maltin on...</td>\n",
       "      <td>0</td>\n",
       "    </tr>\n",
       "    <tr>\n",
       "      <th>49999</th>\n",
       "      <td>one expects star trek movies high art fans exp...</td>\n",
       "      <td>0</td>\n",
       "    </tr>\n",
       "  </tbody>\n",
       "</table>\n",
       "<p>50000 rows × 2 columns</p>\n",
       "</div>"
      ],
      "text/plain": [
       "                                                  review  sentiment\n",
       "0      one reviewers mentioned watching oz episode ho...          1\n",
       "1      wonderful little production filming technique ...          1\n",
       "2      thought wonderful way spend time hot summer we...          1\n",
       "3      basically family little boy jake thinks zombie...          0\n",
       "4      petter mattei love time money visually stunnin...          1\n",
       "...                                                  ...        ...\n",
       "49995  thought movie right good job creative original...          1\n",
       "49996  bad plot bad dialogue bad acting idiotic direc...          0\n",
       "49997  catholic taught parochial elementary schools n...          0\n",
       "49998  going disagree previous comment side maltin on...          0\n",
       "49999  one expects star trek movies high art fans exp...          0\n",
       "\n",
       "[50000 rows x 2 columns]"
      ]
     },
     "execution_count": 8,
     "metadata": {},
     "output_type": "execute_result"
    }
   ],
   "source": [
    "# convert positive sentiment to 1 and negative sentiment to 0 \n",
    "# then there are two classes of sentiment 1 and 0 \n",
    "\n",
    "mov_df['sentiment'] = mov_df['sentiment'].replace({'positive':1, 'negative':0}).astype(int)\n",
    "mov_df"
   ]
  },
  {
   "cell_type": "code",
   "execution_count": 9,
   "id": "f0ca113e",
   "metadata": {},
   "outputs": [
    {
     "data": {
      "text/plain": [
       "0    25000\n",
       "1    25000\n",
       "Name: sentiment, dtype: int64"
      ]
     },
     "execution_count": 9,
     "metadata": {},
     "output_type": "execute_result"
    }
   ],
   "source": [
    "# count sentiment\n",
    "\n",
    "mov_df['sentiment'].value_counts()"
   ]
  },
  {
   "cell_type": "code",
   "execution_count": 10,
   "id": "975d2cc3",
   "metadata": {},
   "outputs": [
    {
     "data": {
      "text/html": [
       "<div>\n",
       "<style scoped>\n",
       "    .dataframe tbody tr th:only-of-type {\n",
       "        vertical-align: middle;\n",
       "    }\n",
       "\n",
       "    .dataframe tbody tr th {\n",
       "        vertical-align: top;\n",
       "    }\n",
       "\n",
       "    .dataframe thead th {\n",
       "        text-align: right;\n",
       "    }\n",
       "</style>\n",
       "<table border=\"1\" class=\"dataframe\">\n",
       "  <thead>\n",
       "    <tr style=\"text-align: right;\">\n",
       "      <th></th>\n",
       "      <th>review</th>\n",
       "      <th>sentiment</th>\n",
       "    </tr>\n",
       "  </thead>\n",
       "  <tbody>\n",
       "    <tr>\n",
       "      <th>0</th>\n",
       "      <td>one reviewers mentioned watching oz episode ho...</td>\n",
       "      <td>1</td>\n",
       "    </tr>\n",
       "    <tr>\n",
       "      <th>1</th>\n",
       "      <td>wonderful little production filming technique ...</td>\n",
       "      <td>1</td>\n",
       "    </tr>\n",
       "    <tr>\n",
       "      <th>2</th>\n",
       "      <td>thought wonderful way spend time hot summer we...</td>\n",
       "      <td>1</td>\n",
       "    </tr>\n",
       "    <tr>\n",
       "      <th>3</th>\n",
       "      <td>petter mattei love time money visually stunnin...</td>\n",
       "      <td>1</td>\n",
       "    </tr>\n",
       "    <tr>\n",
       "      <th>4</th>\n",
       "      <td>probably alltime favorite movie story selfless...</td>\n",
       "      <td>1</td>\n",
       "    </tr>\n",
       "    <tr>\n",
       "      <th>...</th>\n",
       "      <td>...</td>\n",
       "      <td>...</td>\n",
       "    </tr>\n",
       "    <tr>\n",
       "      <th>39995</th>\n",
       "      <td>tdy probably single worst piece trash ever hit...</td>\n",
       "      <td>0</td>\n",
       "    </tr>\n",
       "    <tr>\n",
       "      <th>39996</th>\n",
       "      <td>comes close worst movie ever seen writer start...</td>\n",
       "      <td>0</td>\n",
       "    </tr>\n",
       "    <tr>\n",
       "      <th>39997</th>\n",
       "      <td>silly movie looks nice make lot sense one hand...</td>\n",
       "      <td>0</td>\n",
       "    </tr>\n",
       "    <tr>\n",
       "      <th>39998</th>\n",
       "      <td>believe sat utter waste time fascinated unspea...</td>\n",
       "      <td>0</td>\n",
       "    </tr>\n",
       "    <tr>\n",
       "      <th>39999</th>\n",
       "      <td>wonder anymore mrs murphy movies one movie tot...</td>\n",
       "      <td>0</td>\n",
       "    </tr>\n",
       "  </tbody>\n",
       "</table>\n",
       "<p>40000 rows × 2 columns</p>\n",
       "</div>"
      ],
      "text/plain": [
       "                                                  review  sentiment\n",
       "0      one reviewers mentioned watching oz episode ho...          1\n",
       "1      wonderful little production filming technique ...          1\n",
       "2      thought wonderful way spend time hot summer we...          1\n",
       "3      petter mattei love time money visually stunnin...          1\n",
       "4      probably alltime favorite movie story selfless...          1\n",
       "...                                                  ...        ...\n",
       "39995  tdy probably single worst piece trash ever hit...          0\n",
       "39996  comes close worst movie ever seen writer start...          0\n",
       "39997  silly movie looks nice make lot sense one hand...          0\n",
       "39998  believe sat utter waste time fascinated unspea...          0\n",
       "39999  wonder anymore mrs murphy movies one movie tot...          0\n",
       "\n",
       "[40000 rows x 2 columns]"
      ]
     },
     "metadata": {},
     "output_type": "display_data"
    },
    {
     "data": {
      "text/html": [
       "<div>\n",
       "<style scoped>\n",
       "    .dataframe tbody tr th:only-of-type {\n",
       "        vertical-align: middle;\n",
       "    }\n",
       "\n",
       "    .dataframe tbody tr th {\n",
       "        vertical-align: top;\n",
       "    }\n",
       "\n",
       "    .dataframe thead th {\n",
       "        text-align: right;\n",
       "    }\n",
       "</style>\n",
       "<table border=\"1\" class=\"dataframe\">\n",
       "  <thead>\n",
       "    <tr style=\"text-align: right;\">\n",
       "      <th></th>\n",
       "      <th>review</th>\n",
       "      <th>sentiment</th>\n",
       "    </tr>\n",
       "  </thead>\n",
       "  <tbody>\n",
       "    <tr>\n",
       "      <th>0</th>\n",
       "      <td>movie stuffed full stock horror movie goodies ...</td>\n",
       "      <td>1</td>\n",
       "    </tr>\n",
       "    <tr>\n",
       "      <th>1</th>\n",
       "      <td>romulans come bearing gifts bring war war conq...</td>\n",
       "      <td>1</td>\n",
       "    </tr>\n",
       "    <tr>\n",
       "      <th>2</th>\n",
       "      <td>movie heard life growing never seen years ago ...</td>\n",
       "      <td>1</td>\n",
       "    </tr>\n",
       "    <tr>\n",
       "      <th>3</th>\n",
       "      <td>let begin saying bigger fan original lonesome ...</td>\n",
       "      <td>1</td>\n",
       "    </tr>\n",
       "    <tr>\n",
       "      <th>4</th>\n",
       "      <td>seen bsg tried watch middle show get however s...</td>\n",
       "      <td>1</td>\n",
       "    </tr>\n",
       "    <tr>\n",
       "      <th>...</th>\n",
       "      <td>...</td>\n",
       "      <td>...</td>\n",
       "    </tr>\n",
       "    <tr>\n",
       "      <th>9995</th>\n",
       "      <td>typical junk comedythere almost laughs genuine...</td>\n",
       "      <td>0</td>\n",
       "    </tr>\n",
       "    <tr>\n",
       "      <th>9996</th>\n",
       "      <td>bad plot bad dialogue bad acting idiotic direc...</td>\n",
       "      <td>0</td>\n",
       "    </tr>\n",
       "    <tr>\n",
       "      <th>9997</th>\n",
       "      <td>catholic taught parochial elementary schools n...</td>\n",
       "      <td>0</td>\n",
       "    </tr>\n",
       "    <tr>\n",
       "      <th>9998</th>\n",
       "      <td>going disagree previous comment side maltin on...</td>\n",
       "      <td>0</td>\n",
       "    </tr>\n",
       "    <tr>\n",
       "      <th>9999</th>\n",
       "      <td>one expects star trek movies high art fans exp...</td>\n",
       "      <td>0</td>\n",
       "    </tr>\n",
       "  </tbody>\n",
       "</table>\n",
       "<p>10000 rows × 2 columns</p>\n",
       "</div>"
      ],
      "text/plain": [
       "                                                 review  sentiment\n",
       "0     movie stuffed full stock horror movie goodies ...          1\n",
       "1     romulans come bearing gifts bring war war conq...          1\n",
       "2     movie heard life growing never seen years ago ...          1\n",
       "3     let begin saying bigger fan original lonesome ...          1\n",
       "4     seen bsg tried watch middle show get however s...          1\n",
       "...                                                 ...        ...\n",
       "9995  typical junk comedythere almost laughs genuine...          0\n",
       "9996  bad plot bad dialogue bad acting idiotic direc...          0\n",
       "9997  catholic taught parochial elementary schools n...          0\n",
       "9998  going disagree previous comment side maltin on...          0\n",
       "9999  one expects star trek movies high art fans exp...          0\n",
       "\n",
       "[10000 rows x 2 columns]"
      ]
     },
     "metadata": {},
     "output_type": "display_data"
    }
   ],
   "source": [
    "# split into train and test data sets\n",
    "# select 80% of each sentiment class as the trainning set, the rest 20% are the test set\n",
    "\n",
    "pos_train = mov_df[mov_df['sentiment']==1][:20000]\n",
    "neg_train = mov_df[mov_df['sentiment']==0][:20000]\n",
    "pos_test = mov_df[mov_df['sentiment']==1][20000:]\n",
    "neg_test = mov_df[mov_df['sentiment']==0][20000:]\n",
    "\n",
    "train = pd.concat([pos_train, neg_train])\n",
    "train.reset_index(inplace=True, drop=True)\n",
    "display(train)\n",
    "\n",
    "test = pd.concat([pos_test, neg_test])\n",
    "test.reset_index(inplace=True, drop=True)\n",
    "display(test)"
   ]
  },
  {
   "cell_type": "code",
   "execution_count": 11,
   "id": "d8fec9cd",
   "metadata": {
    "scrolled": true
   },
   "outputs": [],
   "source": [
    "all_text = mov_df['review'].values"
   ]
  },
  {
   "cell_type": "code",
   "execution_count": 12,
   "id": "13a1f984",
   "metadata": {},
   "outputs": [
    {
     "name": "stdout",
     "output_type": "stream",
     "text": [
      "Number of reviews:  50000\n",
      "total number of unique words:  206808\n"
     ]
    }
   ],
   "source": [
    "# count the number of unique words\n",
    "\n",
    "# create the tokenizer\n",
    "tokenizer = Tokenizer()\n",
    "# fit the tokenizer on the text\n",
    "tokenizer.fit_on_texts(all_text)\n",
    "# summarize what was learned\n",
    "print(\"Number of reviews: \", tokenizer.document_count)\n",
    "\n",
    "# count the number of each unique word\n",
    "word_count = tokenizer.word_counts\n",
    "#print(\"Number of unqiue words in the whole dataset: \", word_count, sep='\\n')\n",
    "\n",
    "# total number of unique words 44656 \n",
    "num_unique_words = len(word_count)\n",
    "print(\"total number of unique words: \", num_unique_words)"
   ]
  },
  {
   "cell_type": "code",
   "execution_count": 13,
   "id": "cf4a3b41",
   "metadata": {},
   "outputs": [
    {
     "name": "stdout",
     "output_type": "stream",
     "text": [
      "word index:  {'movie': 1, 'film': 2, 'one': 3, 'like': 4, 'good': 5, 'would': 6, 'even': 7, 'time': 8, 'really': 9, 'see': 10}\n"
     ]
    }
   ],
   "source": [
    "#The most common word in the text will be represented as 1, and so on\n",
    "word_rank = tokenizer.word_index\n",
    "\n",
    "#print the top 10 words\n",
    "print(\"word index: \", {k: word_rank[k] for k in list(word_rank)[:10]}) "
   ]
  },
  {
   "cell_type": "code",
   "execution_count": 14,
   "id": "4c60d048",
   "metadata": {},
   "outputs": [],
   "source": [
    "# lengths of all reviews\n",
    "\n",
    "all_reviewlen =[]\n",
    "for t in range(len(all_text)):\n",
    "    \n",
    "    l = len(all_text[t].split())\n",
    "    all_reviewlen.append(l)"
   ]
  },
  {
   "cell_type": "code",
   "execution_count": 15,
   "id": "6e5140d6",
   "metadata": {},
   "outputs": [
    {
     "data": {
      "image/png": "[encoded data removed]",
      "text/plain": [
       "<Figure size 432x288 with 1 Axes>"
      ]
     },
     "metadata": {
      "needs_background": "light"
     },
     "output_type": "display_data"
    }
   ],
   "source": [
    "#Plot the histogram of review lengths\n",
    "\n",
    "plt.hist(all_reviewlen, bins=10)\n",
    "plt.xlabel('Review Length')\n",
    "plt.ylabel('No. of documents')\n",
    "plt.show()"
   ]
  },
  {
   "cell_type": "code",
   "execution_count": 16,
   "id": "72d56d21",
   "metadata": {},
   "outputs": [
    {
     "data": {
      "text/plain": [
       "161"
      ]
     },
     "execution_count": 16,
     "metadata": {},
     "output_type": "execute_result"
    }
   ],
   "source": [
    "#Select a review length L that 80% of the reviews have a length below it\n",
    "\n",
    "all_reviewlen.sort()\n",
    "L = all_reviewlen[40000]\n",
    "L"
   ]
  },
  {
   "cell_type": "code",
   "execution_count": 17,
   "id": "bdd42c56",
   "metadata": {},
   "outputs": [],
   "source": [
    "#Truncate reviews longer than L words and zero-pad reviews shorter than L so that \n",
    "#all texts are of length L\n",
    "#and assume that we are interested in the top 50000 words\n",
    "\n",
    "# create the tokenizer\n",
    "token = Tokenizer(num_words=50001)\n",
    "\n",
    "# fit the tokenizer on training set\n",
    "test_list = list(test['review'].values)\n",
    "train_list = list(train['review'].values)\n",
    "\n",
    "token.fit_on_texts(train_list)"
   ]
  },
  {
   "cell_type": "code",
   "execution_count": 18,
   "id": "ce40e455",
   "metadata": {},
   "outputs": [
    {
     "name": "stdout",
     "output_type": "stream",
     "text": [
      "[3, 1831, 912, 54, 2962, 285, 2990, 98, 446, 452, 7240, 19, 55, 3093, 2962, 5453, 15642, 49, 444, 172, 98, 529, 51, 1551, 38, 8048, 5335, 11428, 38, 2222, 5406, 5098, 1262, 260, 444, 3212, 239, 224, 339, 2962, 11038, 230, 13209, 6290, 2412, 919, 2393, 1224, 23060, 387, 4607, 2367, 1023, 6731, 2680, 12633, 280, 16989, 204, 4730, 3006, 387, 226, 7384, 37953, 13843, 4608, 7862, 2136, 15643, 210, 8659, 6596, 11429, 8239, 34245, 33, 122, 19461, 6, 47, 159, 1135, 38, 525, 86, 149, 155, 2840, 678, 77, 1159, 4272, 2260, 1013, 678, 1240, 678, 840, 84, 19, 285, 42, 99, 3093, 1396, 2080, 47, 1399, 166, 1328, 1120, 2962, 78, 9599, 204, 1946, 1973, 444, 444, 7679, 6400, 4983, 2631, 27208, 6291, 364, 477, 14, 130, 13, 9301, 615, 653, 6291, 517, 1023, 18146, 525, 415, 751, 1920, 1023, 420, 54, 2962, 92, 293, 3434, 3130, 14, 1011, 3858, 372]\n",
      "[    3  1831   912    54  2962   285  2990    98   446   452  7240    19\n",
      "    55  3093  2962  5453 15642    49   444   172    98   529    51  1551\n",
      "    38  8048  5335 11428    38  2222  5406  5098  1262   260   444  3212\n",
      "   239   224   339  2962 11038   230 13209  6290  2412   919  2393  1224\n",
      " 23060   387  4607  2367  1023  6731  2680 12633   280 16989   204  4730\n",
      "  3006   387   226  7384 37953 13843  4608  7862  2136 15643   210  8659\n",
      "  6596 11429  8239 34245    33   122 19461     6    47   159  1135    38\n",
      "   525    86   149   155  2840   678    77  1159  4272  2260  1013   678\n",
      "  1240   678   840    84    19   285    42    99  3093  1396  2080    47\n",
      "  1399   166  1328  1120  2962    78  9599   204  1946  1973   444   444\n",
      "  7679  6400  4983  2631 27208  6291   364   477    14   130    13  9301\n",
      "   615   653  6291   517  1023 18146   525   415   751  1920  1023   420\n",
      "    54  2962    92   293  3434  3130    14  1011  3858   372     0     0\n",
      "     0     0     0     0     0]\n",
      "(40000, 161)\n"
     ]
    }
   ],
   "source": [
    "# zero-pad train dataset\n",
    "\n",
    "sq_train = token.texts_to_sequences(train_list)\n",
    "print(sq_train[0])\n",
    "\n",
    "pad_train = pad_sequences(sq_train, maxlen=L, padding='post', truncating='post')\n",
    "print(pad_train[0])\n",
    "print(pad_train.shape)\n"
   ]
  },
  {
   "cell_type": "code",
   "execution_count": 19,
   "id": "09f2ebf0",
   "metadata": {},
   "outputs": [
    {
     "name": "stdout",
     "output_type": "stream",
     "text": [
      "[1, 6412, 253, 1600, 90, 1, 12415, 10844, 18995, 20617, 451, 978, 4685, 2148, 518, 1458, 7, 45027, 215, 2643, 2153, 362, 31860, 14739, 3437, 17346, 6907, 747, 518, 9356, 13903, 1641, 20079, 1153, 10600, 2745, 2599, 9995, 219, 1014, 34399, 1988, 375, 2001, 2496, 1030, 21940, 8512, 20519, 69, 9910, 771, 254, 440, 135, 11275, 68, 42, 17351, 121, 4521, 7, 795, 2077, 1752, 90, 1, 1420, 647, 955, 3, 46, 333, 518, 324, 1458, 149, 1830, 1688, 5012, 3, 795, 2077, 12561, 251, 1047, 5182, 49, 19303, 1, 2009, 430, 1452, 23251, 133, 23589, 100, 1090, 1568, 165, 854, 480, 16, 1458, 3978, 1587, 1956, 60, 279, 1096, 40, 813, 5662, 1794, 1759, 163, 7, 3317, 2411, 4892, 12245, 2372, 71, 1685, 3, 2444, 221, 1834, 1072, 2, 160, 4, 3341, 840, 20, 7, 3341, 6889, 2352, 6595, 723, 157, 2, 777, 2571, 44, 20, 57, 797, 1788, 170, 262, 74, 10877, 157, 3809, 22, 529, 1752, 2366, 7852, 62, 170, 10945, 30943, 37299, 95, 27331, 101, 771, 16, 8352, 103, 1220, 253, 9470, 801, 208, 101, 5768, 3238, 12480, 13722, 42, 3928, 402, 117, 13722, 117, 4254, 3238, 74, 441, 21, 1350, 3, 430, 1726, 13648, 130, 12480, 3, 9297, 16, 24, 203, 122, 243, 17746, 2817, 31009, 340, 200, 1327, 4240, 835, 13903, 5656, 7569, 20764, 11002, 681, 3643, 2249, 810]\n",
      "[    1  6412   253  1600    90     1 12415 10844 18995 20617   451   978\n",
      "  4685  2148   518  1458     7 45027   215  2643  2153   362 31860 14739\n",
      "  3437 17346  6907   747   518  9356 13903  1641 20079  1153 10600  2745\n",
      "  2599  9995   219  1014 34399  1988   375  2001  2496  1030 21940  8512\n",
      " 20519    69  9910   771   254   440   135 11275    68    42 17351   121\n",
      "  4521     7   795  2077  1752    90     1  1420   647   955     3    46\n",
      "   333   518   324  1458   149  1830  1688  5012     3   795  2077 12561\n",
      "   251  1047  5182    49 19303     1  2009   430  1452 23251   133 23589\n",
      "   100  1090  1568   165   854   480    16  1458  3978  1587  1956    60\n",
      "   279  1096    40   813  5662  1794  1759   163     7  3317  2411  4892\n",
      " 12245  2372    71  1685     3  2444   221  1834  1072     2   160     4\n",
      "  3341   840    20     7  3341  6889  2352  6595   723   157     2   777\n",
      "  2571    44    20    57   797  1788   170   262    74 10877   157  3809\n",
      "    22   529  1752  2366  7852]\n",
      "(10000, 161)\n"
     ]
    }
   ],
   "source": [
    "# zero-pad test dataset\n",
    "\n",
    "sq_test = token.texts_to_sequences(test_list)\n",
    "print(sq_test[0])\n",
    "\n",
    "pad_test = pad_sequences(sq_test, maxlen=L, padding='post', truncating='post')\n",
    "print(pad_test[0])\n",
    "print(pad_test.shape)"
   ]
  },
  {
   "cell_type": "code",
   "execution_count": 20,
   "id": "092860dc",
   "metadata": {},
   "outputs": [
    {
     "data": {
      "text/plain": [
       "numpy.ndarray"
      ]
     },
     "execution_count": 20,
     "metadata": {},
     "output_type": "execute_result"
    }
   ],
   "source": [
    "# sentiment classes y \n",
    "y_train = np.array(train['sentiment'])\n",
    "y_test = np.array(test['sentiment'])\n",
    "type(y_train)"
   ]
  },
  {
   "cell_type": "code",
   "execution_count": 64,
   "id": "5911c368",
   "metadata": {},
   "outputs": [
    {
     "name": "stdout",
     "output_type": "stream",
     "text": [
      "Model: \"sequential_13\"\n",
      "_________________________________________________________________\n",
      " Layer (type)                Output Shape              Param #   \n",
      "=================================================================\n",
      " embedding_13 (Embedding)    (None, 161, 32)           1600032   \n",
      "                                                                 \n",
      " flatten_3 (Flatten)         (None, 5152)              0         \n",
      "                                                                 \n",
      " dense_32 (Dense)            (None, 50)                257650    \n",
      "                                                                 \n",
      " dropout_29 (Dropout)        (None, 50)                0         \n",
      "                                                                 \n",
      " dense_33 (Dense)            (None, 50)                2550      \n",
      "                                                                 \n",
      " dropout_30 (Dropout)        (None, 50)                0         \n",
      "                                                                 \n",
      " dense_34 (Dense)            (None, 50)                2550      \n",
      "                                                                 \n",
      " dropout_31 (Dropout)        (None, 50)                0         \n",
      "                                                                 \n",
      " dense_35 (Dense)            (None, 1)                 51        \n",
      "                                                                 \n",
      "=================================================================\n",
      "Total params: 1,862,833\n",
      "Trainable params: 1,862,833\n",
      "Non-trainable params: 0\n",
      "_________________________________________________________________\n",
      "None\n"
     ]
    }
   ],
   "source": [
    "# Train Multi-Layer Perceptron (MLP)\n",
    "\n",
    "# with three hidden(dense) layers, 50 ReLUs for each\n",
    "# one output layer with a single sigmoid neuron\n",
    "# drop rate is 20% for the first dense layer, 50% for the rest dense layers\n",
    "# set the number of epochs as 2\n",
    "\n",
    "model = Sequential()\n",
    "model.add(Embedding(50001, 32, input_length=L))\n",
    "model.add(Flatten())\n",
    "model.add(Dense(50, activation='relu'))\n",
    "model.add(Dropout(0.2))\n",
    "model.add(Dense(50, activation='relu'))\n",
    "model.add(Dropout(0.5))\n",
    "model.add(Dense(50, activation='relu'))\n",
    "model.add(Dropout(0.5))\n",
    "model.add(Dense(1, activation='sigmoid'))\n",
    "\n",
    "model.compile(optimizer='adam', loss='binary_crossentropy', metrics=['accuracy'])\n",
    "print(model.summary())\n",
    "\n",
    "history_mlp = model.fit(pad_train, y_train, epochs=2, batch_size=10, verbose=0, validation_data=(pad_test, y_test))\n"
   ]
  },
  {
   "cell_type": "code",
   "execution_count": 66,
   "id": "95de3565",
   "metadata": {},
   "outputs": [
    {
     "data": {
      "text/plain": [
       "{'loss': [0.4103941023349762, 0.1332179605960846],\n",
       " 'accuracy': [0.7995499968528748, 0.9563500285148621],\n",
       " 'val_loss': [0.28551235795021057, 0.39908263087272644],\n",
       " 'val_accuracy': [0.8848000168800354, 0.8676999807357788]}"
      ]
     },
     "metadata": {},
     "output_type": "display_data"
    },
    {
     "name": "stdout",
     "output_type": "stream",
     "text": [
      "MLP last epoch train accuracy:  0.9563500285148621\n",
      "MLP last epoch validation accuracy:  0.8676999807357788\n"
     ]
    }
   ],
   "source": [
    "display(history_mlp.history)\n",
    "print(\"MLP last epoch train accuracy: \", history_mlp.history['accuracy'][1])\n",
    "print(\"MLP last epoch validation accuracy: \", history_mlp.history['val_accuracy'][1])"
   ]
  },
  {
   "cell_type": "code",
   "execution_count": 67,
   "id": "76528364",
   "metadata": {},
   "outputs": [
    {
     "name": "stdout",
     "output_type": "stream",
     "text": [
      "MLP train accuracy:  0.9959499835968018\n",
      "MLP test accuracy:  0.8676999807357788\n"
     ]
    }
   ],
   "source": [
    "loss1_mlp, accuracy1_mlp = model.evaluate(pad_train, y_train, verbose=0)\n",
    "loss2_mlp, accuracy2_mlp = model.evaluate(pad_test, y_test, verbose=0)\n",
    "print(\"MLP train accuracy: \", accuracy1_mlp)\n",
    "print(\"MLP test accuracy: \", accuracy2_mlp)"
   ]
  },
  {
   "cell_type": "code",
   "execution_count": null,
   "id": "4be8a0b8",
   "metadata": {},
   "outputs": [],
   "source": []
  },
  {
   "cell_type": "code",
   "execution_count": 24,
   "id": "c5e80093",
   "metadata": {},
   "outputs": [
    {
     "name": "stdout",
     "output_type": "stream",
     "text": [
      "Model: \"sequential_1\"\n",
      "_________________________________________________________________\n",
      " Layer (type)                Output Shape              Param #   \n",
      "=================================================================\n",
      " embedding_1 (Embedding)     (None, 161, 32)           1600032   \n",
      "                                                                 \n",
      " conv1d (Conv1D)             (None, 159, 32)           3104      \n",
      "                                                                 \n",
      " max_pooling1d (MaxPooling1D  (None, 79, 32)           0         \n",
      " )                                                               \n",
      "                                                                 \n",
      " flatten_1 (Flatten)         (None, 2528)              0         \n",
      "                                                                 \n",
      " dense_4 (Dense)             (None, 50)                126450    \n",
      "                                                                 \n",
      " dropout_3 (Dropout)         (None, 50)                0         \n",
      "                                                                 \n",
      " dense_5 (Dense)             (None, 50)                2550      \n",
      "                                                                 \n",
      " dropout_4 (Dropout)         (None, 50)                0         \n",
      "                                                                 \n",
      " dense_6 (Dense)             (None, 50)                2550      \n",
      "                                                                 \n",
      " dropout_5 (Dropout)         (None, 50)                0         \n",
      "                                                                 \n",
      " dense_7 (Dense)             (None, 1)                 51        \n",
      "                                                                 \n",
      "=================================================================\n",
      "Total params: 1,734,737\n",
      "Trainable params: 1,734,737\n",
      "Non-trainable params: 0\n",
      "_________________________________________________________________\n",
      "None\n"
     ]
    }
   ],
   "source": [
    "# Train One-Dimensional Convolutional Neural Network (CNN)\n",
    " \n",
    "# with one Convolutional 1D layer which has 32 feature maps, \n",
    "# and each of the 32 kernels has size 3\n",
    "# one Max pooling layer after with sride of 2\n",
    "# rest of the layers are the same as MLP model \n",
    "# set the number of epochs as 5\n",
    "\n",
    "model_1d = Sequential()\n",
    "model_1d.add(Embedding(50001, 32, input_length=L))\n",
    "model_1d.add(Conv1D(32,3, activation='relu'))\n",
    "model_1d.add(MaxPooling1D(pool_size=2, strides=2))\n",
    "model_1d.add(Flatten())\n",
    "model_1d.add(Dense(50, activation='relu'))\n",
    "model_1d.add(Dropout(0.2))\n",
    "model_1d.add(Dense(50, activation='relu'))\n",
    "model_1d.add(Dropout(0.5))\n",
    "model_1d.add(Dense(50, activation='relu'))\n",
    "model_1d.add(Dropout(0.5))\n",
    "model_1d.add(Dense(1, activation='sigmoid'))\n",
    "\n",
    "opt = keras.optimizers.Adam(learning_rate=0.001)\n",
    "model_1d.compile(optimizer=opt, loss='binary_crossentropy', metrics=['accuracy'])\n",
    "print(model_1d.summary())\n",
    "\n",
    "history_1d = model_1d.fit(pad_train, y_train, epochs=5, batch_size=10, verbose=0, validation_data=(pad_test, y_test))\n",
    "    "
   ]
  },
  {
   "cell_type": "code",
   "execution_count": 25,
   "id": "cf2555da",
   "metadata": {},
   "outputs": [
    {
     "name": "stdout",
     "output_type": "stream",
     "text": [
      "CNN last epoch train accuracy:  0.9948999881744385\n",
      "CNN last epoch validation accuracy:  0.8774999976158142\n"
     ]
    }
   ],
   "source": [
    "print(\"CNN last epoch train accuracy: \", history_1d.history['accuracy'][4])\n",
    "print(\"CNN last epoch validation accuracy: \", history_1d.history['val_accuracy'][4])"
   ]
  },
  {
   "cell_type": "code",
   "execution_count": 26,
   "id": "8a405594",
   "metadata": {},
   "outputs": [
    {
     "name": "stdout",
     "output_type": "stream",
     "text": [
      "CNN train accuracy:  0.9983749985694885\n",
      "CNN test accuracy:  0.8774999976158142\n"
     ]
    }
   ],
   "source": [
    "loss1_1d, accuracy1_1d = model_1d.evaluate(pad_train, y_train, verbose=0)\n",
    "loss2_1d, accuracy2_1d = model_1d.evaluate(pad_test, y_test, verbose=0)\n",
    "print(\"CNN train accuracy: \", accuracy1_1d)\n",
    "print(\"CNN test accuracy: \", accuracy2_1d)"
   ]
  },
  {
   "cell_type": "code",
   "execution_count": 63,
   "id": "d56bed14",
   "metadata": {},
   "outputs": [
    {
     "data": {
      "image/png": "[encoded data removed]",
      "text/plain": [
       "<Figure size 432x288 with 1 Axes>"
      ]
     },
     "metadata": {
      "needs_background": "light"
     },
     "output_type": "display_data"
    }
   ],
   "source": [
    "#plot the model accuracy \n",
    "plt.plot(history_1d.history['accuracy'])\n",
    "plt.plot(history_1d.history['val_accuracy'])\n",
    "\n",
    "plt.title('CNN Model Accuracy')\n",
    "plt.ylabel('accuracy')\n",
    "plt.xlabel('epoch')\n",
    "plt.legend(['train','test'], loc='upper left')\n",
    "plt.show()"
   ]
  },
  {
   "cell_type": "code",
   "execution_count": 34,
   "id": "d5345425",
   "metadata": {},
   "outputs": [
    {
     "name": "stdout",
     "output_type": "stream",
     "text": [
      "Model: \"sequential_4\"\n",
      "_________________________________________________________________\n",
      " Layer (type)                Output Shape              Param #   \n",
      "=================================================================\n",
      " embedding_4 (Embedding)     (None, 161, 32)           1600032   \n",
      "                                                                 \n",
      " lstm_2 (LSTM)               (None, 32)                8320      \n",
      "                                                                 \n",
      " dropout_10 (Dropout)        (None, 32)                0         \n",
      "                                                                 \n",
      " dense_12 (Dense)            (None, 256)               8448      \n",
      "                                                                 \n",
      " dropout_11 (Dropout)        (None, 256)               0         \n",
      "                                                                 \n",
      " dense_13 (Dense)            (None, 1)                 257       \n",
      "                                                                 \n",
      "=================================================================\n",
      "Total params: 1,617,057\n",
      "Trainable params: 1,617,057\n",
      "Non-trainable params: 0\n",
      "_________________________________________________________________\n",
      "None\n"
     ]
    }
   ],
   "source": [
    "# Train Long Short-Term Memory Recurrent Neural Network (LSTM)\n",
    "\n",
    "# each word is represented to LSTM layer as a vector of 32 elements\n",
    "# followed by a dense layer with 256 ReLUs\n",
    "# drop rates are 20% for both LSTM and Dense layer\n",
    "# set the number of epochs as 10\n",
    "\n",
    "model_lstm = Sequential()\n",
    "model_lstm.add(Embedding(50001, 32, input_length=L))\n",
    "model_lstm.add(LSTM(32, activation='tanh')) \n",
    "model_lstm.add(Dropout(0.2))\n",
    "model_lstm.add(Dense(256, activation='relu'))\n",
    "model_lstm.add(Dropout(0.2))\n",
    "model_lstm.add(Dense(1, activation='sigmoid'))\n",
    "\n",
    "\n",
    "opt = keras.optimizers.Adam(learning_rate=0.01)\n",
    "model_lstm.compile(optimizer=opt, loss='binary_crossentropy', metrics=['accuracy'])\n",
    "print(model_lstm.summary())\n",
    "\n",
    "history_lstm = model_lstm.fit(pad_train, y_train, epochs=10, batch_size=10, verbose=0, validation_data=(pad_test, y_test))\n"
   ]
  },
  {
   "cell_type": "code",
   "execution_count": 36,
   "id": "842ca7a3",
   "metadata": {},
   "outputs": [
    {
     "name": "stdout",
     "output_type": "stream",
     "text": [
      "LSTM last epoch train accuracy:  0.8971750140190125\n",
      "LSTM last epoch validation accuracy:  0.8206999897956848\n"
     ]
    }
   ],
   "source": [
    "print(\"LSTM last epoch train accuracy: \", history_lstm.history['accuracy'][9])\n",
    "print(\"LSTM last epoch validation accuracy: \", history_lstm.history['val_accuracy'][9])"
   ]
  },
  {
   "cell_type": "code",
   "execution_count": 37,
   "id": "90d9ebde",
   "metadata": {},
   "outputs": [
    {
     "name": "stdout",
     "output_type": "stream",
     "text": [
      "LSTM train accuracy:  0.9076250195503235\n",
      "LSTM test accuracy:  0.8206999897956848\n"
     ]
    }
   ],
   "source": [
    "loss1_lstm, accuracy1_lstm = model_lstm.evaluate(pad_train, y_train, verbose=0)\n",
    "loss2_lstm, accuracy2_lstm = model_lstm.evaluate(pad_test, y_test, verbose=0)\n",
    "print(\"LSTM train accuracy: \", accuracy1_lstm)\n",
    "print(\"LSTM test accuracy: \", accuracy2_lstm)"
   ]
  },
  {
   "cell_type": "code",
   "execution_count": 68,
   "id": "9a86135f",
   "metadata": {},
   "outputs": [
    {
     "data": {
      "image/png": "[encoded data removed]",
      "text/plain": [
       "<Figure size 432x288 with 1 Axes>"
      ]
     },
     "metadata": {
      "needs_background": "light"
     },
     "output_type": "display_data"
    }
   ],
   "source": [
    "#plot the model accuracy \n",
    "plt.plot(history_lstm.history['accuracy'])\n",
    "plt.plot(history_lstm.history['val_accuracy'])\n",
    "\n",
    "plt.title('LSTM Model Accuracy')\n",
    "plt.ylabel('accuracy')\n",
    "plt.xlabel('epoch')\n",
    "plt.legend(['train','test'], loc='upper left')\n",
    "plt.show()"
   ]
  },
  {
   "cell_type": "code",
   "execution_count": null,
   "id": "e60fa4a4",
   "metadata": {},
   "outputs": [],
   "source": []
  }
 ],
 "metadata": {
  "kernelspec": {
   "display_name": "Python 3",
   "language": "python",
   "name": "python3"
  },
  "language_info": {
   "codemirror_mode": {
    "name": "ipython",
    "version": 3
   },
   "file_extension": ".py",
   "mimetype": "text/x-python",
   "name": "python",
   "nbconvert_exporter": "python",
   "pygments_lexer": "ipython3",
   "version": "3.8.8"
  }
 },
 "nbformat": 4,
 "nbformat_minor": 5
}
